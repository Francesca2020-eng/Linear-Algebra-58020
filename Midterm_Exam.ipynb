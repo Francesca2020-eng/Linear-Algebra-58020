{
  "nbformat": 4,
  "nbformat_minor": 0,
  "metadata": {
    "colab": {
      "name": "Midterm Exam.ipynb",
      "provenance": [],
      "authorship_tag": "ABX9TyMlja9Jq6Vb0YGQJOZ+GvKm",
      "include_colab_link": true
    },
    "kernelspec": {
      "name": "python3",
      "display_name": "Python 3"
    },
    "language_info": {
      "name": "python"
    }
  },
  "cells": [
    {
      "cell_type": "markdown",
      "metadata": {
        "id": "view-in-github",
        "colab_type": "text"
      },
      "source": [
        "<a href=\"https://colab.research.google.com/github/Francesca2020-eng/Linear-Algebra-58020/blob/main/Midterm_Exam.ipynb\" target=\"_parent\"><img src=\"https://colab.research.google.com/assets/colab-badge.svg\" alt=\"Open In Colab\"/></a>"
      ]
    },
    {
      "cell_type": "markdown",
      "metadata": {
        "id": "Y2T6rCbc3q6b"
      },
      "source": [
        "#Midterm Exam"
      ]
    },
    {
      "cell_type": "code",
      "metadata": {
        "colab": {
          "base_uri": "https://localhost:8080/"
        },
        "id": "XRATnMQp3vT_",
        "outputId": "10a6c62b-e7e7-4373-dc6f-3db5536e99fc"
      },
      "source": [
        "#1 Create a Python code that displays a square matrix whose length is 5.\n",
        "import numpy as np\n",
        "A = np.array([[11,12,13,14,15],[16,17,18,19,20],[21,22,23,24,25],[26,27,28,29,30],[31,32,33,34,35]])\n",
        "print(A)\n"
      ],
      "execution_count": 14,
      "outputs": [
        {
          "output_type": "stream",
          "name": "stdout",
          "text": [
            "[[11 12 13 14 15]\n",
            " [16 17 18 19 20]\n",
            " [21 22 23 24 25]\n",
            " [26 27 28 29 30]\n",
            " [31 32 33 34 35]]\n"
          ]
        }
      ]
    },
    {
      "cell_type": "code",
      "metadata": {
        "colab": {
          "base_uri": "https://localhost:8080/"
        },
        "id": "4LJRf-pP6AaK",
        "outputId": "c533d0af-df11-4f75-81d2-400b32b8a476"
      },
      "source": [
        "#2 Create a Python code that displays a square matrix whose elements below the principal diagonal are zero.\n",
        "A = np.array([[1,2,3],[0,1,2],[0,0,3]])\n",
        "print(A)"
      ],
      "execution_count": 15,
      "outputs": [
        {
          "output_type": "stream",
          "name": "stdout",
          "text": [
            "[[1 2 3]\n",
            " [0 1 2]\n",
            " [0 0 3]]\n"
          ]
        }
      ]
    },
    {
      "cell_type": "code",
      "metadata": {
        "colab": {
          "base_uri": "https://localhost:8080/"
        },
        "id": "oUy7V-Jy8HPZ",
        "outputId": "8294ac92-7b9f-4168-a84b-d4f3abbe1ac4"
      },
      "source": [
        "#3 Create a Python code that displays a square matrix which is symmetrical.\n",
        "#display original matrix\n",
        "A = np.array([[5,3,5],[1,3,2],[5,2,6]])\n",
        "print(A)\n",
        "\n",
        "#display transposed matrix\n",
        "print(np.transpose(A))\n",
        "\n",
        "print(\"\\n Question 4\")\n",
        "\n",
        "B = np.array([[1,2,3],[2,3,3],[3,4,-2]])\n",
        "print (B)\n",
        "inv_A=np.linalg.inv(B)\n"
      ],
      "execution_count": 10,
      "outputs": [
        {
          "output_type": "stream",
          "name": "stdout",
          "text": [
            "[[5 3 5]\n",
            " [1 3 2]\n",
            " [5 2 6]]\n",
            "[[5 1 5]\n",
            " [3 3 2]\n",
            " [5 2 6]]\n",
            "\n",
            " Question 4\n",
            "[[ 1  2  3]\n",
            " [ 2  3  3]\n",
            " [ 3  4 -2]]\n"
          ]
        }
      ]
    },
    {
      "cell_type": "code",
      "metadata": {
        "colab": {
          "base_uri": "https://localhost:8080/"
        },
        "id": "fAYVCsnp8LD7",
        "outputId": "edfcd09c-a376-4580-daec-c451400a9373"
      },
      "source": [
        "#4 What is the inverse of matrix C? Show your solution by python coding.\n",
        "A = np.array([[1,2,3],[2,3,3],[3,4,-2]])\n",
        "\n",
        "#solution\n",
        "print(np.linalg.inv(A))"
      ],
      "execution_count": 6,
      "outputs": [
        {
          "output_type": "stream",
          "name": "stdout",
          "text": [
            "[[-3.6  3.2 -0.6]\n",
            " [ 2.6 -2.2  0.6]\n",
            " [-0.2  0.4 -0.2]]\n"
          ]
        }
      ]
    },
    {
      "cell_type": "code",
      "metadata": {
        "colab": {
          "base_uri": "https://localhost:8080/"
        },
        "id": "M4ClXAAo8qPp",
        "outputId": "70ad8677-16f1-470a-a7be-f656fb7e6d52"
      },
      "source": [
        "#5 What is the determinant of the given matrix in Question 4? Show your solution by python coding.\n",
        "A = np.array([[1,2,3],[2,3,3],[3,4,-2]])\n",
        "\n",
        "#display\n",
        "print(\"Numpy matrix is\")\n",
        "print(A)\n",
        "\n",
        "#solution\n",
        "determinant = np.linalg.det(A)\n",
        "\n",
        "#display\n",
        "print(\"\\nthe determinant:\")\n",
        "print(int(determinant))\n"
      ],
      "execution_count": 7,
      "outputs": [
        {
          "output_type": "stream",
          "name": "stdout",
          "text": [
            "Numpy matrix is\n",
            "[[ 1  2  3]\n",
            " [ 2  3  3]\n",
            " [ 3  4 -2]]\n",
            "\n",
            "the determinant:\n",
            "5\n"
          ]
        }
      ]
    },
    {
      "cell_type": "code",
      "metadata": {
        "colab": {
          "base_uri": "https://localhost:8080/"
        },
        "id": "td1eF3cL9XQ2",
        "outputId": "d819f5f1-406a-4cfc-a1ae-3775f056b253"
      },
      "source": [
        "#6 Find the roots of the linear equations by showing its python codes.\n",
        "X = np.array([[5,4,1],[10,9,4],[10,13,15]])\n",
        "print(X)\n",
        "\n",
        "#inverse for x\n",
        "inv_X = np.linalg.inv(X)\n",
        "print(inv_X)\n",
        "\n",
        "Y = np.array([[3.4],[8.8],[19.2]])\n",
        "print(Y)\n",
        "\n",
        "#solution for the roots\n",
        "#AA^-1x = B.A^-1\n",
        "\n",
        "Z = np.dot(inv_X,Y)\n",
        "print(Z)"
      ],
      "execution_count": 13,
      "outputs": [
        {
          "output_type": "stream",
          "name": "stdout",
          "text": [
            "[[ 5  4  1]\n",
            " [10  9  4]\n",
            " [10 13 15]]\n",
            "[[ 5.53333333 -3.13333333  0.46666667]\n",
            " [-7.33333333  4.33333333 -0.66666667]\n",
            " [ 2.66666667 -1.66666667  0.33333333]]\n",
            "[[ 3.4]\n",
            " [ 8.8]\n",
            " [19.2]]\n",
            "[[0.2]\n",
            " [0.4]\n",
            " [0.8]]\n"
          ]
        }
      ]
    }
  ]
}