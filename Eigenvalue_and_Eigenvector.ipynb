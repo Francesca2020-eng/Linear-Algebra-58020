{
  "nbformat": 4,
  "nbformat_minor": 0,
  "metadata": {
    "colab": {
      "name": "Eigenvalue and Eigenvector.ipynb",
      "provenance": [],
      "authorship_tag": "ABX9TyOyz4TTgaM5oKnOptScN0E6",
      "include_colab_link": true
    },
    "kernelspec": {
      "name": "python3",
      "display_name": "Python 3"
    },
    "language_info": {
      "name": "python"
    }
  },
  "cells": [
    {
      "cell_type": "markdown",
      "metadata": {
        "id": "view-in-github",
        "colab_type": "text"
      },
      "source": [
        "<a href=\"https://colab.research.google.com/github/Francesca2020-eng/Linear-Algebra-58020/blob/main/Eigenvalue_and_Eigenvector.ipynb\" target=\"_parent\"><img src=\"https://colab.research.google.com/assets/colab-badge.svg\" alt=\"Open In Colab\"/></a>"
      ]
    },
    {
      "cell_type": "code",
      "metadata": {
        "colab": {
          "base_uri": "https://localhost:8080/"
        },
        "id": "N1w6Bu8bk3VE",
        "outputId": "2b5c05f1-4be5-427e-c2e7-3ca643bf940f"
      },
      "source": [
        "import numpy as np\n",
        "from numpy.linalg import eig\n",
        "A = np.array([[-12,3],[4,1]])\n",
        "print(A)\n",
        "\n",
        "inv_A= np.linalg.inv(A)\n",
        "print(inv_A)\n",
        "B = np.array([[0],[0]])\n",
        "print(B)\n",
        "\n",
        "X= np.dot(inv_A,B)\n",
        "print(X)\n",
        "#X =solve(A,B)\n",
        "#print(X)"
      ],
      "execution_count": 10,
      "outputs": [
        {
          "output_type": "stream",
          "name": "stdout",
          "text": [
            "[[-12   3]\n",
            " [  4   1]]\n",
            "[[-0.04166667  0.125     ]\n",
            " [ 0.16666667  0.5       ]]\n",
            "[[0]\n",
            " [0]]\n",
            "[[-0.]\n",
            " [ 0.]]\n"
          ]
        }
      ]
    },
    {
      "cell_type": "code",
      "metadata": {
        "colab": {
          "base_uri": "https://localhost:8080/"
        },
        "id": "bxg3wubnp31Q",
        "outputId": "a59f6ad6-b482-41de-af8c-4756dfe0ca60"
      },
      "source": [
        "#example 1\n",
        "A = np.array([[-6,3],[4,5]])\n",
        "print(A)\n",
        "\n",
        "w,v = np.linalg.eig(A)\n",
        "print(\"The eigenvalues is/are\",w)\n",
        "print(\"The right eigenvectors are\",v)\n",
        "#x = v.round()\n",
        "#print(x)"
      ],
      "execution_count": 14,
      "outputs": [
        {
          "output_type": "stream",
          "name": "stdout",
          "text": [
            "[[-6  3]\n",
            " [ 4  5]]\n",
            "The eigenvalues is/are [-7.  6.]\n",
            "The right eigenvectors are [[-0.9486833  -0.24253563]\n",
            " [ 0.31622777 -0.9701425 ]]\n",
            "[[-1. -0.]\n",
            " [ 0. -1.]]\n"
          ]
        }
      ]
    },
    {
      "cell_type": "code",
      "metadata": {
        "colab": {
          "base_uri": "https://localhost:8080/"
        },
        "id": "iE7iThTStMQu",
        "outputId": "b1d33ba6-09f7-49da-e68d-b76f77c92017"
      },
      "source": [
        "#example 2 \n",
        "A = np.array([[2,2,4],[1,3,5],[2,3,4]])\n",
        "print(A)\n",
        "\n",
        "w,v = np.linalg.eig(A)\n",
        "print(w.round())\n",
        "print(v.round())\n",
        "c =np.dot(A,v.round())\n",
        "print(c)"
      ],
      "execution_count": 19,
      "outputs": [
        {
          "output_type": "stream",
          "name": "stdout",
          "text": [
            "[[2 2 4]\n",
            " [1 3 5]\n",
            " [2 3 4]]\n",
            "[ 9.  1. -1.]\n",
            "[[-1. -1. -0.]\n",
            " [-1.  1. -1.]\n",
            " [-1. -0.  1.]]\n",
            "[[-8.  0.  2.]\n",
            " [-9.  2.  2.]\n",
            " [-9.  1.  1.]]\n"
          ]
        }
      ]
    },
    {
      "cell_type": "code",
      "metadata": {
        "colab": {
          "base_uri": "https://localhost:8080/"
        },
        "id": "1X4nYwb1r6p2",
        "outputId": "37e9b3af-6be1-4515-a44e-27b02cf37570"
      },
      "source": [
        "f =np.array([[-1],[-1],[-1]])\n",
        "print(f)\n",
        "g =np.dot(A,f)\n",
        "print(g)"
      ],
      "execution_count": 22,
      "outputs": [
        {
          "output_type": "stream",
          "name": "stdout",
          "text": [
            "[[-1]\n",
            " [-1]\n",
            " [-1]]\n",
            "[[-8]\n",
            " [-9]\n",
            " [-9]]\n"
          ]
        }
      ]
    }
  ]
}