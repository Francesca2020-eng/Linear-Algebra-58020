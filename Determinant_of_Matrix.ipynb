{
  "nbformat": 4,
  "nbformat_minor": 0,
  "metadata": {
    "colab": {
      "name": "Determinant of Matrix.ipynb",
      "provenance": [],
      "authorship_tag": "ABX9TyOYi/nst6FL28C4+r2r3QDu",
      "include_colab_link": true
    },
    "kernelspec": {
      "name": "python3",
      "display_name": "Python 3"
    },
    "language_info": {
      "name": "python"
    }
  },
  "cells": [
    {
      "cell_type": "markdown",
      "metadata": {
        "id": "view-in-github",
        "colab_type": "text"
      },
      "source": [
        "<a href=\"https://colab.research.google.com/github/Francesca2020-eng/Linear-Algebra-58020/blob/main/Determinant_of_Matrix.ipynb\" target=\"_parent\"><img src=\"https://colab.research.google.com/assets/colab-badge.svg\" alt=\"Open In Colab\"/></a>"
      ]
    },
    {
      "cell_type": "code",
      "metadata": {
        "colab": {
          "base_uri": "https://localhost:8080/"
        },
        "id": "0suwo2ahR_Pc",
        "outputId": "01bf29a2-389b-48c3-bac7-831d5c03ce59"
      },
      "source": [
        "import numpy as np\n",
        "A = np.array([[1,2,-1],[4,6,-2],[-1,3,3]])\n",
        "print (round(np.linalg.det(A)))"
      ],
      "execution_count": 4,
      "outputs": [
        {
          "output_type": "stream",
          "name": "stdout",
          "text": [
            "-14\n"
          ]
        }
      ]
    }
  ]
}