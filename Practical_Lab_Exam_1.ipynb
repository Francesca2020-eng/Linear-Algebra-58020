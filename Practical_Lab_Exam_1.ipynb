{
  "nbformat": 4,
  "nbformat_minor": 0,
  "metadata": {
    "colab": {
      "name": "Practical Lab Exam 1.ipynb",
      "provenance": [],
      "authorship_tag": "ABX9TyOWGOOEhRbvWVRAItgWaAxN",
      "include_colab_link": true
    },
    "kernelspec": {
      "name": "python3",
      "display_name": "Python 3"
    },
    "language_info": {
      "name": "python"
    }
  },
  "cells": [
    {
      "cell_type": "markdown",
      "metadata": {
        "id": "view-in-github",
        "colab_type": "text"
      },
      "source": [
        "<a href=\"https://colab.research.google.com/github/Francesca2020-eng/Linear-Algebra-58020/blob/main/Practical_Lab_Exam_1.ipynb\" target=\"_parent\"><img src=\"https://colab.research.google.com/assets/colab-badge.svg\" alt=\"Open In Colab\"/></a>"
      ]
    },
    {
      "cell_type": "markdown",
      "metadata": {
        "id": "GnLnpuuF_yr1"
      },
      "source": [
        "Problem 1. Consider the four matrices\n"
      ]
    },
    {
      "cell_type": "markdown",
      "metadata": {
        "id": "4YiN5-e5OtNe"
      },
      "source": [
        "A. WY"
      ]
    },
    {
      "cell_type": "code",
      "metadata": {
        "colab": {
          "base_uri": "https://localhost:8080/"
        },
        "id": "gP9PRmNc_2RO",
        "outputId": "19147360-32ad-469e-8ebc-6c43b119a504"
      },
      "source": [
        "import numpy as np\n",
        "W = np.array ([[1,-3],[2,-2],[3,1]])\n",
        "Y = np.array ([[1,2,0],[0,-1,2]])\n",
        "\n",
        "print(np.dot(W,Y))\n"
      ],
      "execution_count": 27,
      "outputs": [
        {
          "output_type": "stream",
          "name": "stdout",
          "text": [
            "[[ 1  5 -6]\n",
            " [ 2  6 -4]\n",
            " [ 3  5  2]]\n"
          ]
        }
      ]
    },
    {
      "cell_type": "markdown",
      "metadata": {
        "id": "7U7kPwSpOoT7"
      },
      "source": [
        "B. Z+Z\n"
      ]
    },
    {
      "cell_type": "code",
      "metadata": {
        "colab": {
          "base_uri": "https://localhost:8080/"
        },
        "id": "qa3JRIHfBIP4",
        "outputId": "5a0a0624-165e-4398-a426-b7ea492aee7b"
      },
      "source": [
        "#Addition of matrices\n",
        "Z = np.array ([[0,1],[2,3]])\n",
        "print (Z+Z)"
      ],
      "execution_count": 7,
      "outputs": [
        {
          "output_type": "stream",
          "name": "stdout",
          "text": [
            "[[0 2]\n",
            " [4 6]]\n"
          ]
        }
      ]
    },
    {
      "cell_type": "markdown",
      "metadata": {
        "id": "swpoMWdWOk-c"
      },
      "source": [
        "C. 3X"
      ]
    },
    {
      "cell_type": "code",
      "metadata": {
        "colab": {
          "base_uri": "https://localhost:8080/"
        },
        "id": "ggYkhz6oB8Vn",
        "outputId": "7c76da60-4c13-4e17-dc4e-8431bb0a2717"
      },
      "source": [
        "X = np.array ([[3,2,1],[-1,2,3],[2,-1,1]])\n",
        "output = np.dot(3,X)\n",
        "print (output)"
      ],
      "execution_count": 31,
      "outputs": [
        {
          "output_type": "stream",
          "name": "stdout",
          "text": [
            "[[ 9  6  3]\n",
            " [-3  6  9]\n",
            " [ 6 -3  3]]\n"
          ]
        }
      ]
    },
    {
      "cell_type": "markdown",
      "metadata": {
        "id": "EJroRhUNJaQ7"
      },
      "source": [
        "Problem 2\n"
      ]
    },
    {
      "cell_type": "markdown",
      "metadata": {
        "id": "HUty0XlROwen"
      },
      "source": [
        "A. The product (YW)2 is not defined\n"
      ]
    },
    {
      "cell_type": "code",
      "metadata": {
        "colab": {
          "base_uri": "https://localhost:8080/"
        },
        "id": "WXkAQx1vJet4",
        "outputId": "eed0faa7-dc0b-4ca6-cde3-a6fec46118f2"
      },
      "source": [
        "W = np.array ([[1,-3],[2,-2],[3,1]])\n",
        "Y = np.array ([[1,2,0],[0,-1,2]])\n",
        " \n",
        "S = np.dot(Y,W)\n",
        "print (S*S)\n",
        "#Statement is not true"
      ],
      "execution_count": 34,
      "outputs": [
        {
          "output_type": "stream",
          "name": "stdout",
          "text": [
            "[[25 49]\n",
            " [16 16]]\n"
          ]
        }
      ]
    },
    {
      "cell_type": "markdown",
      "metadata": {
        "id": "xzZj9pIkPObp"
      },
      "source": [
        "B. WY-X"
      ]
    },
    {
      "cell_type": "code",
      "metadata": {
        "colab": {
          "base_uri": "https://localhost:8080/"
        },
        "id": "aYABZrZDPRXG",
        "outputId": "52351269-0cf2-4edf-f2ed-c67c44e83f82"
      },
      "source": [
        "W = np.array ([[1,-3],[2,-2],[3,1]])\n",
        "Y = np.array ([[1,2,0],[0,-1,2]])\n",
        "X = np.array ([[3,2,1],[-1,2,3],[2,-1,1]])\n",
        "\n",
        "S = np.dot(W,Y)\n",
        "\n",
        "print(np.subtract(S,X))\n",
        "\n",
        "#Statement is true"
      ],
      "execution_count": 38,
      "outputs": [
        {
          "output_type": "stream",
          "name": "stdout",
          "text": [
            "[[-2  3 -7]\n",
            " [ 3  4 -7]\n",
            " [ 1  6  1]]\n"
          ]
        }
      ]
    },
    {
      "cell_type": "markdown",
      "metadata": {
        "id": "XQGJLWHlSeW0"
      },
      "source": [
        "C.  YW – Z^2 ="
      ]
    },
    {
      "cell_type": "code",
      "metadata": {
        "colab": {
          "base_uri": "https://localhost:8080/"
        },
        "id": "wSTySqd0SixH",
        "outputId": "ff398dbe-a04a-4590-d1eb-94206ab359a8"
      },
      "source": [
        "W = np.array ([[1,-3],[2,-2],[3,1]])\n",
        "Y = np.array ([[1,2,0],[0,-1,2]])\n",
        "Z = np.array ([[0,1],[2,3]])\n",
        "\n",
        "S = np.dot(Y,W)\n",
        "R = Z*Z\n",
        "print(np.subtract(S,R))\n",
        "\n",
        "#Statement is not true\n"
      ],
      "execution_count": 42,
      "outputs": [
        {
          "output_type": "stream",
          "name": "stdout",
          "text": [
            "[[ 5 -8]\n",
            " [ 0 -5]]\n"
          ]
        }
      ]
    }
  ]
}