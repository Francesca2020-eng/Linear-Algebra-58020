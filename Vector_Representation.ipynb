{
  "nbformat": 4,
  "nbformat_minor": 0,
  "metadata": {
    "colab": {
      "name": "Vector Representation",
      "provenance": [],
      "authorship_tag": "ABX9TyPv1B0mMToD7qM0xMQTtwav",
      "include_colab_link": true
    },
    "kernelspec": {
      "name": "python3",
      "display_name": "Python 3"
    },
    "language_info": {
      "name": "python"
    }
  },
  "cells": [
    {
      "cell_type": "markdown",
      "metadata": {
        "id": "view-in-github",
        "colab_type": "text"
      },
      "source": [
        "<a href=\"https://colab.research.google.com/github/Francesca2020-eng/Linear-Algebra-58020/blob/main/Vector_Representation.ipynb\" target=\"_parent\"><img src=\"https://colab.research.google.com/assets/colab-badge.svg\" alt=\"Open In Colab\"/></a>"
      ]
    },
    {
      "cell_type": "markdown",
      "metadata": {
        "id": "twuu66bUDYZy"
      },
      "source": [
        "Matrix and its Operations"
      ]
    },
    {
      "cell_type": "code",
      "metadata": {
        "colab": {
          "base_uri": "https://localhost:8080/"
        },
        "id": "QuMatZq0Dhn4",
        "outputId": "b2a0e706-587e-43c6-d4c7-644cebae9562"
      },
      "source": [
        "import numpy as np \n",
        "#create a 1x3 array\n",
        "a= np.array([1,2,3])\n",
        "print (a)"
      ],
      "execution_count": 1,
      "outputs": [
        {
          "output_type": "stream",
          "name": "stdout",
          "text": [
            "[1 2 3]\n"
          ]
        }
      ]
    },
    {
      "cell_type": "code",
      "metadata": {
        "colab": {
          "base_uri": "https://localhost:8080/"
        },
        "id": "ck9g6OiMD8aA",
        "outputId": "5997e2f7-ffcf-460e-f13b-e2af5e51f1c1"
      },
      "source": [
        "# create a 2 x 3 matrix\n",
        "b = np.array([[1,2,3],[4,5,6]])\n",
        "print (b)"
      ],
      "execution_count": 2,
      "outputs": [
        {
          "output_type": "stream",
          "name": "stdout",
          "text": [
            "[[1 2 3]\n",
            " [4 5 6]]\n"
          ]
        }
      ]
    },
    {
      "cell_type": "code",
      "metadata": {
        "colab": {
          "base_uri": "https://localhost:8080/"
        },
        "id": "69JLoVDWEymv",
        "outputId": "383e0b90-ae13-448c-c1f7-7b9a89ffd350"
      },
      "source": [
        "#create a 3 x 3 matriz\n",
        "c = np.array([[1,2,3],[4,5,6],[7,8,9]])\n",
        "print (c)\n"
      ],
      "execution_count": 3,
      "outputs": [
        {
          "output_type": "stream",
          "name": "stdout",
          "text": [
            "[[1 2 3]\n",
            " [4 5 6]\n",
            " [7 8 9]]\n"
          ]
        }
      ]
    },
    {
      "cell_type": "code",
      "metadata": {
        "colab": {
          "base_uri": "https://localhost:8080/"
        },
        "id": "xOZeJxiVFL6f",
        "outputId": "12d08fd8-692b-4505-eea2-78d24f858c3d"
      },
      "source": [
        "#create a constant array with all values are 6 \n",
        "d = np.full ((4,4),6) # This is an example of square matrix\n",
        "print (d)"
      ],
      "execution_count": 4,
      "outputs": [
        {
          "output_type": "stream",
          "name": "stdout",
          "text": [
            "[[6 6 6 6]\n",
            " [6 6 6 6]\n",
            " [6 6 6 6]\n",
            " [6 6 6 6]]\n"
          ]
        }
      ]
    },
    {
      "cell_type": "code",
      "metadata": {
        "colab": {
          "base_uri": "https://localhost:8080/"
        },
        "id": "2CyfyDqMFulL",
        "outputId": "21bc0288-5129-4f2d-e846-534007ac5cfb"
      },
      "source": [
        "#create a diagonal matrix\n",
        "e = np.array  ([[1,2,3],[4,5,6],[7,8,9]]) \n",
        "print (e)\n",
        "e = np.diagonal ([[1,2,3],[4,5,6],[7,8,9]]) \n",
        "print (e)"
      ],
      "execution_count": 7,
      "outputs": [
        {
          "output_type": "stream",
          "name": "stdout",
          "text": [
            "[[1 2 3]\n",
            " [4 5 6]\n",
            " [7 8 9]]\n",
            "[1 5 9]\n"
          ]
        }
      ]
    },
    {
      "cell_type": "code",
      "metadata": {
        "colab": {
          "base_uri": "https://localhost:8080/"
        },
        "id": "CrAGNwB-GTGb",
        "outputId": "4eae400a-0646-4935-e316-df8dc20953f6"
      },
      "source": [
        "#create an identity matrix \n",
        "f = np.eye(4)\n",
        "print (f)"
      ],
      "execution_count": 8,
      "outputs": [
        {
          "output_type": "stream",
          "name": "stdout",
          "text": [
            "[[1. 0. 0. 0.]\n",
            " [0. 1. 0. 0.]\n",
            " [0. 0. 1. 0.]\n",
            " [0. 0. 0. 1.]]\n"
          ]
        }
      ]
    },
    {
      "cell_type": "code",
      "metadata": {
        "colab": {
          "base_uri": "https://localhost:8080/"
        },
        "id": "lUYcKXy5Gckg",
        "outputId": "94f356c9-e786-4b85-d0a8-57f00188b6a8"
      },
      "source": [
        "#create a zero matrix\n",
        "g = np.zeros ((6,5))\n",
        "print  (g)"
      ],
      "execution_count": 10,
      "outputs": [
        {
          "output_type": "stream",
          "name": "stdout",
          "text": [
            "[[0. 0. 0. 0. 0.]\n",
            " [0. 0. 0. 0. 0.]\n",
            " [0. 0. 0. 0. 0.]\n",
            " [0. 0. 0. 0. 0.]\n",
            " [0. 0. 0. 0. 0.]\n",
            " [0. 0. 0. 0. 0.]]\n"
          ]
        }
      ]
    },
    {
      "cell_type": "code",
      "metadata": {
        "colab": {
          "base_uri": "https://localhost:8080/"
        },
        "id": "whQVxlLeGt5Z",
        "outputId": "5678553b-b104-492c-c72e-e2bd71a70005"
      },
      "source": [
        "#create an empty matrix\n",
        "h = np.empty ((0,5))\n",
        "print (h)"
      ],
      "execution_count": 11,
      "outputs": [
        {
          "output_type": "stream",
          "name": "stdout",
          "text": [
            "[]\n"
          ]
        }
      ]
    },
    {
      "cell_type": "code",
      "metadata": {
        "colab": {
          "base_uri": "https://localhost:8080/"
        },
        "id": "TuVJUE6HG7QP",
        "outputId": "eb9334ee-aa9c-446f-e15f-667239a45b10"
      },
      "source": [
        "#Addition of matrix\n",
        "i = np.array([[1,2,3],[4,5,6]])\n",
        "j = np.zeros((2,3))\n",
        "print (i+j)"
      ],
      "execution_count": 25,
      "outputs": [
        {
          "output_type": "stream",
          "name": "stdout",
          "text": [
            "[[1. 2. 3.]\n",
            " [4. 5. 6.]]\n"
          ]
        }
      ]
    },
    {
      "cell_type": "code",
      "metadata": {
        "colab": {
          "base_uri": "https://localhost:8080/"
        },
        "id": "9DFdG2fdImHI",
        "outputId": "72db16e5-5ebf-4d39-e96d-a414b018ba2f"
      },
      "source": [
        "#subtraction of matrices\n",
        "i = np.array([[1,2,3],[4,5,6]])\n",
        "j = np.array([[-1,2,4],[7,4,2]])\n",
        "print (i)\n",
        "print (j)"
      ],
      "execution_count": 19,
      "outputs": [
        {
          "output_type": "stream",
          "name": "stdout",
          "text": [
            "[[1 2 3]\n",
            " [4 5 6]]\n",
            "[[-1  2  4]\n",
            " [ 7  4  2]]\n"
          ]
        }
      ]
    },
    {
      "cell_type": "code",
      "metadata": {
        "colab": {
          "base_uri": "https://localhost:8080/"
        },
        "id": "-WV_Zi2jJa70",
        "outputId": "c4c419c4-2c32-493a-fd5f-aabad22248de"
      },
      "source": [
        "#Subtraction of Matrices \n",
        "i = np.array([[1,2,3],[4,5,6]])\n",
        "j = np.array([[-1,2,4],[7,4,2]])\n",
        "print (i-j)"
      ],
      "execution_count": 21,
      "outputs": [
        {
          "output_type": "stream",
          "name": "stdout",
          "text": [
            "[[ 2  0 -1]\n",
            " [-3  1  4]]\n"
          ]
        }
      ]
    }
  ]
}