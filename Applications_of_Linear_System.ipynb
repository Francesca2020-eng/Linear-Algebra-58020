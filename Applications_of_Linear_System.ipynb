{
  "nbformat": 4,
  "nbformat_minor": 0,
  "metadata": {
    "colab": {
      "name": "Applications of Linear System.ipynb",
      "provenance": [],
      "authorship_tag": "ABX9TyPB7hX4qCRSuBXg5hqpamph",
      "include_colab_link": true
    },
    "kernelspec": {
      "name": "python3",
      "display_name": "Python 3"
    },
    "language_info": {
      "name": "python"
    }
  },
  "cells": [
    {
      "cell_type": "markdown",
      "metadata": {
        "id": "view-in-github",
        "colab_type": "text"
      },
      "source": [
        "<a href=\"https://colab.research.google.com/github/Francesca2020-eng/Linear-Algebra-58020/blob/main/Applications_of_Linear_System.ipynb\" target=\"_parent\"><img src=\"https://colab.research.google.com/assets/colab-badge.svg\" alt=\"Open In Colab\"/></a>"
      ]
    },
    {
      "cell_type": "markdown",
      "metadata": {
        "id": "-8y9n59VgVDi"
      },
      "source": [
        "Systems of Linear Equation can be solved with arrays and Numpy"
      ]
    },
    {
      "cell_type": "code",
      "metadata": {
        "colab": {
          "base_uri": "https://localhost:8080/"
        },
        "id": "cysReC8QgdKa",
        "outputId": "6d9f48ae-e816-44cf-9e9c-b16a80d05920"
      },
      "source": [
        "import numpy as np\n",
        "from scipy.linalg import solve\n",
        "\n",
        "A = np.array([[4,5],[3,-2]])\n",
        "print(A)\n",
        "\n",
        "B = np.array([[7],[11]])\n",
        "print(B)\n",
        "\n",
        "inv_A = np.linalg.inv(A)\n",
        "print(inv_A)\n",
        "\n",
        "X = np.linalg.inv(A).dot(B)\n",
        "print(X)"
      ],
      "execution_count": 8,
      "outputs": [
        {
          "output_type": "stream",
          "name": "stdout",
          "text": [
            "[[ 4  5]\n",
            " [ 3 -2]]\n",
            "[[ 7]\n",
            " [11]]\n",
            "[[ 0.08695652  0.2173913 ]\n",
            " [ 0.13043478 -0.17391304]]\n",
            "[[ 3.]\n",
            " [-1.]]\n"
          ]
        }
      ]
    },
    {
      "cell_type": "code",
      "metadata": {
        "colab": {
          "base_uri": "https://localhost:8080/"
        },
        "id": "CIoDnd7bhpVG",
        "outputId": "420f8637-a736-47ec-fe41-87ca9b51ffad"
      },
      "source": [
        "inv_A = np.linalg.inv(A)\n",
        "print(inv_A)\n",
        "\n",
        "X = np.dot(inv_A,B)\n",
        "print(X)\n"
      ],
      "execution_count": 9,
      "outputs": [
        {
          "output_type": "stream",
          "name": "stdout",
          "text": [
            "[[ 0.08695652  0.2173913 ]\n",
            " [ 0.13043478 -0.17391304]]\n",
            "[[ 3.]\n",
            " [-1.]]\n"
          ]
        }
      ]
    },
    {
      "cell_type": "code",
      "metadata": {
        "colab": {
          "base_uri": "https://localhost:8080/"
        },
        "id": "NEagZ6xzh0Cl",
        "outputId": "cdcc78fc-9b9c-4ead-e6a3-9dedfcb89048"
      },
      "source": [
        "X = np.linalg.solve(A,B)\n",
        "print(X)\n"
      ],
      "execution_count": 10,
      "outputs": [
        {
          "output_type": "stream",
          "name": "stdout",
          "text": [
            "[[ 3.]\n",
            " [-1.]]\n"
          ]
        }
      ]
    },
    {
      "cell_type": "code",
      "metadata": {
        "colab": {
          "base_uri": "https://localhost:8080/"
        },
        "id": "D1QRM1KDh8up",
        "outputId": "51fdfca8-3e0c-4636-9238-3fc13807ac4b"
      },
      "source": [
        "from scipy.linalg import solve\n",
        "\n",
        "X = solve(A,B)\n",
        "print(X)"
      ],
      "execution_count": 11,
      "outputs": [
        {
          "output_type": "stream",
          "name": "stdout",
          "text": [
            "[[ 3.]\n",
            " [-1.]]\n"
          ]
        }
      ]
    }
  ]
}