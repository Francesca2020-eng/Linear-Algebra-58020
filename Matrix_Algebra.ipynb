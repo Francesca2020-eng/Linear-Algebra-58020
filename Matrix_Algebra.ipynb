{
  "nbformat": 4,
  "nbformat_minor": 0,
  "metadata": {
    "colab": {
      "name": "Matrix Algebra.ipynb",
      "provenance": [],
      "authorship_tag": "ABX9TyPjeq9m7PgRCb2rjeIIqqf0",
      "include_colab_link": true
    },
    "kernelspec": {
      "name": "python3",
      "display_name": "Python 3"
    },
    "language_info": {
      "name": "python"
    }
  },
  "cells": [
    {
      "cell_type": "markdown",
      "metadata": {
        "id": "view-in-github",
        "colab_type": "text"
      },
      "source": [
        "<a href=\"https://colab.research.google.com/github/Francesca2020-eng/Linear-Algebra-58020/blob/main/Matrix_Algebra.ipynb\" target=\"_parent\"><img src=\"https://colab.research.google.com/assets/colab-badge.svg\" alt=\"Open In Colab\"/></a>"
      ]
    },
    {
      "cell_type": "code",
      "metadata": {
        "id": "_UA0LjK1IjVi"
      },
      "source": [
        "Python program to inverse and transpose."
      ],
      "execution_count": null,
      "outputs": []
    },
    {
      "cell_type": "code",
      "metadata": {
        "colab": {
          "base_uri": "https://localhost:8080/"
        },
        "id": "1W_8Uka_Iuex",
        "outputId": "335bce8d-5b38-435c-9ebe-378a7dab6301"
      },
      "source": [
        "##python program to inverse a 3x3 Matrix A=([5,4,2],[6,-3,-5],[3,5,9])\n",
        "A=np.array([[5,4,2],[6,-3,-5],[3,5,9]])\n",
        "invA=(np.linalg.inv(A))\n",
        "print(invA)"
      ],
      "execution_count": 9,
      "outputs": [
        {
          "output_type": "stream",
          "name": "stdout",
          "text": [
            "[[ 0.00961538  0.125       0.06730769]\n",
            " [ 0.33173077 -0.1875     -0.17788462]\n",
            " [-0.1875      0.0625      0.1875    ]]\n"
          ]
        }
      ]
    },
    {
      "cell_type": "code",
      "metadata": {
        "colab": {
          "base_uri": "https://localhost:8080/"
        },
        "id": "8w6VAhJFKvF2",
        "outputId": "003dabc2-8f0f-4025-85ef-ef79f9905a0d"
      },
      "source": [
        "##python program to transpose a 3x3 Matrix A=([5,4,2],[6,-3,-5],[3,5,9])\n",
        "A=np.array([[5,4,2],[6,-3,-5],[3,5,9]])\n",
        "print(A)\n",
        "\n",
        "B=np.transpose(A)\n",
        "print(B)"
      ],
      "execution_count": 10,
      "outputs": [
        {
          "output_type": "stream",
          "name": "stdout",
          "text": [
            "[[ 5  4  2]\n",
            " [ 6 -3 -5]\n",
            " [ 3  5  9]]\n",
            "[[ 5  6  3]\n",
            " [ 4 -3  5]\n",
            " [ 2 -5  9]]\n"
          ]
        }
      ]
    },
    {
      "cell_type": "markdown",
      "metadata": {
        "id": "-JtVmP5dLYSY"
      },
      "source": [
        ""
      ]
    }
  ]
}